{
 "cells": [
  {
   "cell_type": "markdown",
   "id": "3216ced3-7664-4538-b28b-dd4df735f79b",
   "metadata": {},
   "source": [
    "# Lecture 2\n",
    "\n",
    "## Basic [Data Structures](#structures)\n",
    "\n",
    " - lists\n",
    " - tuples\n",
    " - dictionaries\n",
    " - sets\n",
    " - json\n",
    " \n",
    "## Using [Modules](#modules)\n",
    "\n",
    " - importing modules\n",
    " - writing simple modules\n",
    "---"
   ]
  },
  {
   "cell_type": "markdown",
   "id": "42662276-062d-4bd5-8bd4-72b5676bcdaa",
   "metadata": {},
   "source": [
    "## Data Structures<a class = 'anchor' id = 'structures'></a>"
   ]
  },
  {
   "cell_type": "markdown",
   "id": "f56cce65-b2e7-4ac3-8a6e-1396cebf2359",
   "metadata": {},
   "source": [
    "Python has four built-in general purpose containers: `lists`, `tuples`, `dictionaries` and `sets`. "
   ]
  },
  {
   "cell_type": "markdown",
   "id": "cdff7c7b-764f-4769-a058-d4cd5a99809b",
   "metadata": {},
   "source": [
    "### Lists"
   ]
  },
  {
   "cell_type": "markdown",
   "id": "965f35c9-14d4-46ee-9aae-4f551b3bac6f",
   "metadata": {},
   "source": [
    "Python lists are one of the most used datatypes. They can contain elemets of various types which makes them very popuplar but this feature makes large lists memory inefficient! "
   ]
  },
  {
   "cell_type": "code",
   "execution_count": null,
   "id": "c67b961f-37e2-400d-aadd-7c49adb1ec09",
   "metadata": {},
   "outputs": [],
   "source": [
    "l = [1, 2, 3, 's', 1.2]"
   ]
  },
  {
   "cell_type": "code",
   "execution_count": null,
   "id": "332ef156-821e-44ee-b1a3-f7db85f10bfc",
   "metadata": {},
   "outputs": [],
   "source": [
    "print(type(l))"
   ]
  },
  {
   "cell_type": "markdown",
   "id": "1a101af4-4330-4b75-81b5-31c0ea598b92",
   "metadata": {},
   "source": [
    "Lists can also contain other lists so lists can be *nested*. "
   ]
  },
  {
   "cell_type": "code",
   "execution_count": null,
   "id": "ee3c6300-5c18-4758-bef2-21748112f114",
   "metadata": {},
   "outputs": [],
   "source": [
    "b = 'Monthy Python'\n",
    "l = [1, 2, ['a', b]]"
   ]
  },
  {
   "cell_type": "code",
   "execution_count": null,
   "id": "28b0198c-9635-471d-ab3e-acaaaabcdfa0",
   "metadata": {},
   "outputs": [],
   "source": [
    "l"
   ]
  },
  {
   "cell_type": "markdown",
   "id": "eb2c48e3-d69b-47b6-865c-1cdb34d6f871",
   "metadata": {},
   "source": [
    "The classmethod *reverse()* reverses the list **in place**, that is it modifies the list which stays like that."
   ]
  },
  {
   "cell_type": "code",
   "execution_count": null,
   "id": "574384c8-212c-4719-86a9-9a8e883464a1",
   "metadata": {},
   "outputs": [],
   "source": [
    "l.reverse()\n",
    "l"
   ]
  },
  {
   "cell_type": "markdown",
   "id": "a2d668be-622f-48e4-b044-b09a34123821",
   "metadata": {},
   "source": [
    "When the type match, they can also be sorted, also in place."
   ]
  },
  {
   "cell_type": "code",
   "execution_count": null,
   "id": "a92815fe-7d58-49be-9745-072f2f73671f",
   "metadata": {},
   "outputs": [],
   "source": [
    "l = ['f', 'a', 'z', 't']\n",
    "l.sort()\n",
    "l"
   ]
  },
  {
   "cell_type": "markdown",
   "id": "2b91d915-4981-48b2-8a70-68c744bea5a3",
   "metadata": {},
   "source": [
    "Loops and control flows are the subjects of later classes but you can iterate on lists:"
   ]
  },
  {
   "cell_type": "code",
   "execution_count": null,
   "id": "8078a5e3-491c-4712-9b4f-d30459521586",
   "metadata": {},
   "outputs": [],
   "source": [
    "for element in l:\n",
    "    print(element)"
   ]
  },
  {
   "cell_type": "markdown",
   "id": "e63596a6-a873-4dac-a009-70310c9f1cba",
   "metadata": {},
   "source": [
    "Lists play a very important role in Python. For example they are used in loops and other flow control structures (discussed later). There are a number of convenient functions for generating lists of various types, for example the `range` function:"
   ]
  },
  {
   "cell_type": "code",
   "execution_count": null,
   "id": "66b970e0-873f-4c0b-9602-14e0ca93b330",
   "metadata": {},
   "outputs": [],
   "source": [
    "start = 10\n",
    "stop = 20\n",
    "step = 2\n",
    "list(range(start, stop, step)) # 'start is included in the list but 'stop' in not ! "
   ]
  },
  {
   "cell_type": "code",
   "execution_count": null,
   "id": "a2799ab6-9cd4-4530-8662-7a2205416b0a",
   "metadata": {},
   "outputs": [],
   "source": [
    "list(range(10)) # with one integer input parameter you'll get a list from zero to 'stop' with an increment valae of 1"
   ]
  },
  {
   "cell_type": "markdown",
   "id": "365bae70-f936-4f9d-a2e8-36af7e2bc5cf",
   "metadata": {},
   "source": [
    " List can be modified, so they are *mutable*."
   ]
  },
  {
   "cell_type": "code",
   "execution_count": null,
   "id": "dbe6e5fd-4980-4487-a481-0e755cf803b9",
   "metadata": {},
   "outputs": [],
   "source": [
    "l1 = [] # instantiate an empty list"
   ]
  },
  {
   "cell_type": "code",
   "execution_count": null,
   "id": "91cf61c0-6632-4b2a-8916-0d2df70190c5",
   "metadata": {},
   "outputs": [],
   "source": [
    "l1.append(1)\n",
    "l1.append('a')\n",
    "l1.append(1.2)\n",
    "l1"
   ]
  },
  {
   "cell_type": "code",
   "execution_count": null,
   "id": "31a2cc44-1c23-4671-b160-2c0b6a86c8af",
   "metadata": {},
   "outputs": [],
   "source": [
    "import numpy as np\n",
    "l2 = ['Python', 15, np.random.rand(2,2)] # np.random.rand(2,2) creates a 2x2 matrix with random numbers in the [0,1] interval in its elements\n",
    "l2"
   ]
  },
  {
   "cell_type": "code",
   "execution_count": null,
   "id": "2c3b3fd1-7f22-467f-8195-0fb9085a6295",
   "metadata": {},
   "outputs": [],
   "source": [
    "l = l1 + l2 # concatenate the two lists\n",
    "l"
   ]
  },
  {
   "cell_type": "code",
   "execution_count": null,
   "id": "f010925d-342c-4ae1-b935-6664698e6dec",
   "metadata": {},
   "outputs": [],
   "source": [
    "len(l) # length"
   ]
  },
  {
   "cell_type": "markdown",
   "id": "3a3ae1e2-cd18-4532-9e84-418ae39b35e0",
   "metadata": {},
   "source": [
    "List slicing: `l[start:stop]`, where \n",
    "- indexing starts at 0\n",
    "- `'start'` is included while `'stop'` is not"
   ]
  },
  {
   "cell_type": "code",
   "execution_count": null,
   "id": "0587783a-64a1-4883-967e-11008302bdba",
   "metadata": {},
   "outputs": [],
   "source": [
    "l[1:4]"
   ]
  },
  {
   "cell_type": "code",
   "execution_count": null,
   "id": "2cc204a8-e97d-4cf8-a8bf-e2ec9b8ac2d9",
   "metadata": {},
   "outputs": [],
   "source": [
    "l[-1] # the last element is indexed as -1"
   ]
  },
  {
   "cell_type": "code",
   "execution_count": null,
   "id": "ea37b133-ef04-4472-8e8e-19964bddb468",
   "metadata": {},
   "outputs": [],
   "source": [
    "l.remove('a') # remove a particular item\n",
    "l"
   ]
  },
  {
   "cell_type": "code",
   "execution_count": null,
   "id": "a9538aa3-fbe5-47e9-ab6d-503d8f46cd39",
   "metadata": {},
   "outputs": [],
   "source": [
    "del l[2] # delete an item at a given position\n",
    "print(l)"
   ]
  },
  {
   "cell_type": "markdown",
   "id": "c31199a7-672d-4697-8290-2edab3bc22cb",
   "metadata": {},
   "source": [
    "List items can be concatenated using the `join` method. "
   ]
  },
  {
   "cell_type": "code",
   "execution_count": null,
   "id": "639d7639-1f46-42e7-8490-ee3b725d5620",
   "metadata": {},
   "outputs": [],
   "source": [
    "l = ['Monty', 'Python']\n",
    "print(''.join(l))\n",
    "print(' '.join(l))\n",
    "print(', '.join(l))"
   ]
  },
  {
   "cell_type": "markdown",
   "id": "8baebe9f-de04-49f7-be7b-4ff21cf40c35",
   "metadata": {},
   "source": [
    "It comes handy in writing automated SQL scripts."
   ]
  },
  {
   "cell_type": "code",
   "execution_count": null,
   "id": "e15da6fe-0f67-4f41-8dbb-79245e3dc373",
   "metadata": {},
   "outputs": [],
   "source": [
    "database = 'SALES'\n",
    "table = 'WEBSHOP_SALES'\n",
    "month = 'April'\n",
    "day = ['20', '21', '22'] # since it is an input to a string function (the 'join()' method, list elements can only be strings! \n",
    "\n",
    "query = f\"\"\"\n",
    "SELECT *\n",
    "FROM {database}.{table}\n",
    "WHERE month = '{month}'\n",
    "AND day IN ({\", \".join(day)})\n",
    "\"\"\"\n",
    "\n",
    "# note paranthesis (needed for the proper SQL syntax) and the curly braces (for the f-string) after the IN clause\n",
    "\n",
    "print(query)"
   ]
  },
  {
   "cell_type": "markdown",
   "id": "3f0f9350-9155-48f8-8452-30bc2bb6d5a7",
   "metadata": {},
   "source": [
    "### Tuples"
   ]
  },
  {
   "cell_type": "markdown",
   "id": "abde85af-7255-4d88-9e2f-2a1120d2c326",
   "metadata": {},
   "source": [
    "Tuples are like lists, except that they cannot be modified once created, that is they are *immutable*. \n",
    "\n",
    "In Python, tuples are created using the syntax `(..., ..., ...)`, or even `..., ...`:"
   ]
  },
  {
   "cell_type": "code",
   "execution_count": null,
   "id": "9d751f3c-a592-4452-8ea7-2b09fed889ec",
   "metadata": {},
   "outputs": [],
   "source": [
    "height_and_weight = (165, 60)\n",
    "print(height_and_weight)\n",
    "print(type(height_and_weight))"
   ]
  },
  {
   "cell_type": "code",
   "execution_count": null,
   "id": "a6f83247-d572-43fd-97a1-1cfab2739c45",
   "metadata": {},
   "outputs": [],
   "source": [
    "height_and_weight = 165, 60\n",
    "print(height_and_weight)\n",
    "print(type(height_and_weight))"
   ]
  },
  {
   "cell_type": "markdown",
   "id": "a31f4111-1f84-4a96-8a57-3e0020b8f2f0",
   "metadata": {},
   "source": [
    "You can iterate on tuples just like on lists:"
   ]
  },
  {
   "cell_type": "code",
   "execution_count": null,
   "id": "9688b8e2-3d79-4be3-a2c2-211d1882f4c0",
   "metadata": {},
   "outputs": [],
   "source": [
    "for parameter in height_and_weight:\n",
    "    print(parameter)"
   ]
  },
  {
   "cell_type": "markdown",
   "id": "9b0e3c2d-0479-4fd1-b3a5-71aca18013c6",
   "metadata": {},
   "source": [
    "Access like lists:"
   ]
  },
  {
   "cell_type": "code",
   "execution_count": null,
   "id": "43253126-7805-4d25-9b70-fba45c743dd2",
   "metadata": {},
   "outputs": [],
   "source": [
    "height_and_weight[0]"
   ]
  },
  {
   "cell_type": "markdown",
   "id": "f6f0c476-6cb0-4eb8-8dc6-39b70813b70d",
   "metadata": {},
   "source": [
    "Remember, tuples are *immutable*"
   ]
  },
  {
   "cell_type": "code",
   "execution_count": null,
   "id": "d145b214-60ce-49a9-9fe3-e1a28a59e97f",
   "metadata": {},
   "outputs": [],
   "source": [
    "height_and_weight[0] = 170 # this assignment will throw an error"
   ]
  },
  {
   "cell_type": "markdown",
   "id": "d0eac64d-2f52-4ece-afc7-60c5a82e2e42",
   "metadata": {},
   "source": [
    "We can *unpack* a tuple by assigning it to a comma-separated list of variables:"
   ]
  },
  {
   "cell_type": "code",
   "execution_count": null,
   "id": "62de1aa4-94b3-473b-bd99-db8adb67acb0",
   "metadata": {},
   "outputs": [],
   "source": [
    "height, weight = height_and_weight\n",
    "print(height)\n",
    "print(weight)"
   ]
  },
  {
   "cell_type": "markdown",
   "id": "1e73ab4a-70e4-4309-a4bb-a0c720120d9b",
   "metadata": {},
   "source": [
    "### Dictionaries"
   ]
  },
  {
   "cell_type": "markdown",
   "id": "c6cd9917-dd33-4cbe-866d-7e7db40ade08",
   "metadata": {},
   "source": [
    "Dictionaries are also little like lists, except that each element is a *key-value pair*. Dictionaries are written with curly brackets. A dictionary is a collection which is *mutable* and does not allow duplicates. The syntax for dictionaries is `{key1 : value1, key2 : value 2, ...}:` Take keys as labels of the particular values. \n",
    "\n",
    "An *'item'* in a dictionary is a tuple of (*'key'*, *'value'*). \n",
    "\n",
    "Another similarity to lists is that these *values* can be any kind of objects: integers, strings, lists, functions, even other dictionaries. \n",
    "\n",
    "The difference to lists is that in case of the former the ordering is fix. (This is how we iterate on them.) The order of the dictionary values, however, is not important as these values are retreived based not on their position but on their labels or *keys*. The fact that ordering of the values is not important makes searching a dictionary very fast. (See [hash functions](https://en.wikipedia.org/wiki/Hash_function))"
   ]
  },
  {
   "cell_type": "code",
   "execution_count": null,
   "id": "077d86b1-0908-4e66-ae91-edefdee1e3c3",
   "metadata": {},
   "outputs": [],
   "source": [
    "class_size = {\n",
    "    'Java': 20,\n",
    "    'C++': 23, \n",
    "    'Python': 29\n",
    "}"
   ]
  },
  {
   "cell_type": "code",
   "execution_count": null,
   "id": "bdbad46e-1739-4be2-9121-f58afeeb1357",
   "metadata": {},
   "outputs": [],
   "source": [
    "print(type(class_size))\n",
    "print(class_size)"
   ]
  },
  {
   "cell_type": "markdown",
   "id": "2ef9b62c-9d55-457d-b902-1dcec88b4384",
   "metadata": {},
   "source": [
    "Strings, numbers, and tuples work as keys, and any type can be a value. Other types may or may not work correctly as keys (strings and tuples work cleanly since they are immutable). \n",
    "\n",
    "Looking up a value which is not in the dict throws a `KeyError` -- use `in` to check if the key is in the dict, or use `dict.get(key)` which returns the value or `None` if the key is not present (or `get(key, not-found)` allows you to specify what value to return in the not-found case)."
   ]
  },
  {
   "cell_type": "code",
   "execution_count": null,
   "id": "ea5e0b8e-0db1-4002-8687-35dba00434fb",
   "metadata": {},
   "outputs": [],
   "source": [
    "class_size['Java']"
   ]
  },
  {
   "cell_type": "code",
   "execution_count": null,
   "id": "09f1d832-e87b-4087-a14a-e39e2e8aee11",
   "metadata": {},
   "outputs": [],
   "source": [
    "class_size['JavaScript']"
   ]
  },
  {
   "cell_type": "code",
   "execution_count": null,
   "id": "c710e113-268c-48f4-bc51-e3174c0223f3",
   "metadata": {},
   "outputs": [],
   "source": [
    "class_size.get('JavaScript', 0)"
   ]
  },
  {
   "cell_type": "code",
   "execution_count": null,
   "id": "54ed474d-cf1e-4eb2-ba43-11681f3e11e5",
   "metadata": {},
   "outputs": [],
   "source": [
    "'JavaScript' in class_size.keys()"
   ]
  },
  {
   "cell_type": "markdown",
   "id": "c608ac41-f55e-4358-85a5-7ec243b94544",
   "metadata": {},
   "source": [
    "To access each element:"
   ]
  },
  {
   "cell_type": "code",
   "execution_count": null,
   "id": "14baad81-e978-4dab-b8e7-ca92c9f462fa",
   "metadata": {},
   "outputs": [],
   "source": [
    "for key, value in class_size.items():\n",
    "    print('The number of students in the', key, 'class is', value, '.')"
   ]
  },
  {
   "cell_type": "code",
   "execution_count": null,
   "id": "5f810f59-2fea-4e10-908c-69d647d9bab6",
   "metadata": {},
   "outputs": [],
   "source": [
    "for key in class_size.keys():\n",
    "    print(key)"
   ]
  },
  {
   "cell_type": "markdown",
   "id": "e3e20609-631d-4b7f-949a-846eabfce923",
   "metadata": {
    "tags": []
   },
   "source": [
    "### Sets"
   ]
  },
  {
   "cell_type": "markdown",
   "id": "161501e3-e02c-472b-a353-93e4f9b66f84",
   "metadata": {},
   "source": [
    "A Python `set` is a **collection** which is unordered, unchangeable, and unindexed. The most important aspect of sets that they _can't have two items of the same value_.\n",
    "\n",
    "You can create a set by calling the `set()` method and adding the inputs or casting a list into a set object. In the latter case the `set()` method removes the duplicates from list."
   ]
  },
  {
   "cell_type": "code",
   "execution_count": null,
   "id": "2a0f9977-8451-4692-a789-bcd5aca38a0a",
   "metadata": {},
   "outputs": [],
   "source": [
    "ls_a = ['a', 'b', 'a', np.pi, 36] "
   ]
  },
  {
   "cell_type": "code",
   "execution_count": null,
   "id": "c95a4656-303e-497e-b522-533330209f33",
   "metadata": {},
   "outputs": [],
   "source": [
    "st_a = set(ls_a)\n",
    "st_a"
   ]
  },
  {
   "cell_type": "code",
   "execution_count": null,
   "id": "116e27cc-2c03-4174-ab1a-94edb67cc053",
   "metadata": {},
   "outputs": [],
   "source": [
    "st_b = {'d', 36, 'Holy Grail', np.pi}\n",
    "st_b"
   ]
  },
  {
   "cell_type": "markdown",
   "id": "4af04db3-7536-4c8c-8049-c6607e322e9a",
   "metadata": {},
   "source": [
    "We can perform standard _set operations_ with sets."
   ]
  },
  {
   "cell_type": "code",
   "execution_count": null,
   "id": "dd766d10-4785-4650-856c-49018649dad6",
   "metadata": {},
   "outputs": [],
   "source": [
    "# union\n",
    "st_a | st_b"
   ]
  },
  {
   "cell_type": "code",
   "execution_count": null,
   "id": "7b69ee86-e8f6-4b35-a743-e8d8d87971b8",
   "metadata": {},
   "outputs": [],
   "source": [
    "# intersection\n",
    "st_a & st_b"
   ]
  },
  {
   "cell_type": "code",
   "execution_count": null,
   "id": "3c4376f6-e316-4d56-8140-aec8fb8156fa",
   "metadata": {},
   "outputs": [],
   "source": [
    "# difference\n",
    "st_a - st_b"
   ]
  },
  {
   "cell_type": "code",
   "execution_count": null,
   "id": "91fd1f4d-bb7d-442b-b0cd-c1f779db42ab",
   "metadata": {},
   "outputs": [],
   "source": [
    "st_b - st_a"
   ]
  },
  {
   "cell_type": "markdown",
   "id": "8996abb1-e9f1-4382-856f-b8dfe22b86da",
   "metadata": {
    "tags": []
   },
   "source": [
    "### JSON"
   ]
  },
  {
   "cell_type": "markdown",
   "id": "4020ca8e-e82c-4fc7-9e5a-dc714666f889",
   "metadata": {},
   "source": [
    "`JSON` is a syntax for storing and exchanging data. JSON is text, written with *JavaScript object notation*, which a special syntax for writing data as text. In order to work with JSON objects you need to import the `json` module."
   ]
  },
  {
   "cell_type": "code",
   "execution_count": null,
   "id": "9d56978f-090c-4ea5-908c-2fef9730f028",
   "metadata": {},
   "outputs": [],
   "source": [
    "import json"
   ]
  },
  {
   "cell_type": "code",
   "execution_count": null,
   "id": "440f0190-1074-4405-96a8-9334d0856536",
   "metadata": {},
   "outputs": [],
   "source": [
    "JSON_string = '{\"class 0\" : \"intro\", \"class 1\" : \"coding basics\", \"class 2\": \"basic structures\"}'"
   ]
  },
  {
   "cell_type": "code",
   "execution_count": null,
   "id": "44704575-f572-4824-9bee-38cb7793eda7",
   "metadata": {},
   "outputs": [],
   "source": [
    "type(JSON_string)"
   ]
  },
  {
   "cell_type": "markdown",
   "id": "d18c8d74-a830-4b11-8419-ffa24f724d3f",
   "metadata": {},
   "source": [
    "Using the `loads()` method of the `json` module the JSON string can be cast into a dictionary. "
   ]
  },
  {
   "cell_type": "code",
   "execution_count": null,
   "id": "50c652bb-82ba-4e8f-8cd2-53009fa48163",
   "metadata": {},
   "outputs": [],
   "source": [
    "class_dict = json.loads(JSON_string)"
   ]
  },
  {
   "cell_type": "code",
   "execution_count": null,
   "id": "a8430afb-79be-418c-95d1-8a1b904850dc",
   "metadata": {},
   "outputs": [],
   "source": [
    "type(class_dict)"
   ]
  },
  {
   "cell_type": "code",
   "execution_count": null,
   "id": "2ed2f0ce-3a2f-43c5-9a71-04bcd4b35b03",
   "metadata": {},
   "outputs": [],
   "source": [
    "class_dict"
   ]
  },
  {
   "cell_type": "code",
   "execution_count": null,
   "id": "67f9bab0-0c42-4ed5-903a-929bae80d7c0",
   "metadata": {},
   "outputs": [],
   "source": [
    "class_dict.keys()"
   ]
  },
  {
   "cell_type": "code",
   "execution_count": null,
   "id": "68cdf840-120b-46e8-99f9-aba10bd9e44d",
   "metadata": {},
   "outputs": [],
   "source": [
    "class_dict.values()"
   ]
  },
  {
   "cell_type": "code",
   "execution_count": null,
   "id": "f1ced1b9-1efa-455b-8576-09974050a648",
   "metadata": {},
   "outputs": [],
   "source": [
    "type(class_dict)"
   ]
  },
  {
   "cell_type": "markdown",
   "id": "b3442a44-afe0-4287-b66c-133ce3421ebf",
   "metadata": {},
   "source": [
    "We can cast a dictionary into a **valid** JSON string using the `dumps()` method."
   ]
  },
  {
   "cell_type": "code",
   "execution_count": null,
   "id": "19e51a11-9b2f-4015-a786-86010a1a46e2",
   "metadata": {},
   "outputs": [],
   "source": [
    "new_dict = {\n",
    "    'alpha': 0,\n",
    "    'beta': 'car',\n",
    "    'gamma': 1.4,\n",
    "    'delta': None,\n",
    "    'epsilon': True\n",
    "}"
   ]
  },
  {
   "cell_type": "code",
   "execution_count": null,
   "id": "a22ff2dd-61d7-471f-98de-58e830a960a7",
   "metadata": {},
   "outputs": [],
   "source": [
    "print(new_dict)"
   ]
  },
  {
   "cell_type": "code",
   "execution_count": null,
   "id": "b96b7a13-3dfe-4cb1-8272-a54fc75fe188",
   "metadata": {},
   "outputs": [],
   "source": [
    "new_json_string = json.dumps(new_dict)"
   ]
  },
  {
   "cell_type": "code",
   "execution_count": null,
   "id": "28188d65-f1e5-4c78-9203-ade69d0ba80e",
   "metadata": {},
   "outputs": [],
   "source": [
    "print(new_json_string) # Note that the parentheses change to valid JSON standards."
   ]
  },
  {
   "cell_type": "markdown",
   "id": "75fbd6d6-fdce-40a3-98b9-148da95c86a7",
   "metadata": {},
   "source": [
    "The conversion patterns are given in the [JSON documentation](https://docs.python.org/2/library/json.html#py-to-json-table)."
   ]
  },
  {
   "cell_type": "markdown",
   "id": "9bb317b6-b9ee-4716-a406-adf3dea40ba5",
   "metadata": {},
   "source": [
    "## Modules<a class = 'anchor' id = 'modules'></a>"
   ]
  },
  {
   "cell_type": "markdown",
   "id": "1f6f99f8-a5b9-4e49-852f-37f5835518f2",
   "metadata": {},
   "source": [
    "Most of the functionality in Python is provided by `modules`. The Python Standard Library is a large collection of modules that provide cross-platform implementations of common facilities such as access to the operating system, file I/O, string management, network communication, and much more. \n",
    "\n",
    "Formally, a module is a Python file with the `.py` extension which define classes, functions, variables, or even runnable codes. We can also define our own modules, which is a great way produce reusable codes and to keep our workflow organized. \n",
    "\n",
    "The very basic Python functionalities are automatically loaded when starting Python, but most functions, methods, object types, etc. can only be used by *importing* these modules with the `import` statement. "
   ]
  },
  {
   "cell_type": "code",
   "execution_count": null,
   "id": "94be039f-6aa6-4a87-a751-eec6a428f849",
   "metadata": {},
   "outputs": [],
   "source": [
    "import math"
   ]
  },
  {
   "cell_type": "markdown",
   "id": "18f0ecc4-b963-4d26-85b2-816579287292",
   "metadata": {},
   "source": [
    "This includes the whole module and makes it available for use later in the program. When using the module's methods we need to refer to the method's name. "
   ]
  },
  {
   "cell_type": "code",
   "execution_count": null,
   "id": "c75fb214-a392-4de7-9e28-f5b1bdd9e59a",
   "metadata": {},
   "outputs": [],
   "source": [
    "math.cos(2 * math.pi)"
   ]
  },
  {
   "cell_type": "markdown",
   "id": "8b902a3e-dad4-43a3-8166-0fffb0281bc4",
   "metadata": {},
   "source": [
    "Alternatively, we can chose to import all symbols (functions and variables) in a module to the current namespace, so that we don't need to use the prefix `math.` every time we use something from the math module:"
   ]
  },
  {
   "cell_type": "code",
   "execution_count": null,
   "id": "4ab1ac05-0f9e-4c19-a255-028967813fc0",
   "metadata": {},
   "outputs": [],
   "source": [
    "from math import *\n",
    "\n",
    "cos(pi)"
   ]
  },
  {
   "cell_type": "markdown",
   "id": "9499d136-5408-4459-9c4f-770d09f13b22",
   "metadata": {},
   "source": [
    "This pattern can be very convenient, but in *large programs that include many modules* it is often a good idea to keep the symbols from each module in their *own namespaces*, by using the import math pattern. This would eliminate potentially confusing problems with name space collisions, that is when more modules have functions and method with the same name which perform completely different tasks.\n",
    "\n",
    "A third way is to import the necessary functions only."
   ]
  },
  {
   "cell_type": "code",
   "execution_count": null,
   "id": "1c8b2090-5622-48e0-aae3-2e94e751ed3f",
   "metadata": {},
   "outputs": [],
   "source": [
    "from numpy import ceil, floor"
   ]
  },
  {
   "cell_type": "code",
   "execution_count": null,
   "id": "e5dfd774-0bf4-4099-8c46-a098f518ae73",
   "metadata": {},
   "outputs": [],
   "source": [
    "print(ceil(5.5))\n",
    "print(floor(5.5))"
   ]
  },
  {
   "cell_type": "markdown",
   "id": "7af27768-8032-4abd-be65-b6cecdd1d051",
   "metadata": {},
   "source": [
    "When importing modules we often use ***aliases***, or simple abbreviations of the module names which we can use for namespace definition. These aliases can be of any string (you could alias you module as *mickeymouse* or any non-keyword string), but it makes sense to follow general conventions for practical purposes: when we find solutions to our coding problems on the web it is easier to copy and paste those solutions if we don't need to redefine those aliases."
   ]
  },
  {
   "cell_type": "code",
   "execution_count": null,
   "id": "806b5396-0ed6-45f9-a08a-38aab1a46f30",
   "metadata": {},
   "outputs": [],
   "source": [
    "import pandas as pd # 'pd' is the conventional alias for the 'pandas' module"
   ]
  },
  {
   "cell_type": "code",
   "execution_count": null,
   "id": "7ff7d1b7-2bec-4cdd-9fe0-27f523bc19b0",
   "metadata": {},
   "outputs": [],
   "source": [
    "data = [1,2,3,4]\n",
    "\n",
    "series = pd.Series(data)\n",
    "print(series)"
   ]
  },
  {
   "cell_type": "markdown",
   "id": "7b202907-7cfe-41e1-9e41-95b6b6f94861",
   "metadata": {},
   "source": [
    "As said, we can also import our own module. "
   ]
  },
  {
   "cell_type": "code",
   "execution_count": null,
   "id": "0358a17f-7c92-4e60-90cc-284afa09bb0b",
   "metadata": {},
   "outputs": [],
   "source": [
    "import sample_module as mymod"
   ]
  },
  {
   "cell_type": "code",
   "execution_count": null,
   "id": "e1110fa1-b813-4a7a-92a1-c901681cede5",
   "metadata": {},
   "outputs": [],
   "source": [
    "mymod.print_hello('Monty Python')"
   ]
  },
  {
   "cell_type": "code",
   "execution_count": null,
   "id": "90909a3b-4c43-4213-b724-36d03690b4ec",
   "metadata": {},
   "outputs": [],
   "source": []
  }
 ],
 "metadata": {
  "kernelspec": {
   "display_name": "Python 3 (ipykernel)",
   "language": "python",
   "name": "python3"
  },
  "language_info": {
   "codemirror_mode": {
    "name": "ipython",
    "version": 3
   },
   "file_extension": ".py",
   "mimetype": "text/x-python",
   "name": "python",
   "nbconvert_exporter": "python",
   "pygments_lexer": "ipython3",
   "version": "3.8.10"
  }
 },
 "nbformat": 4,
 "nbformat_minor": 5
}
